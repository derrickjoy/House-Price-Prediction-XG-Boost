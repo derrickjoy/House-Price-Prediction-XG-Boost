{
 "cells": [
  {
   "cell_type": "code",
   "execution_count": null,
   "id": "301f55db",
   "metadata": {
    "execution": {
     "iopub.execute_input": "2023-05-31T08:28:56.752700Z",
     "iopub.status.busy": "2023-05-31T08:28:56.752072Z",
     "iopub.status.idle": "2023-05-31T08:28:58.211771Z",
     "shell.execute_reply": "2023-05-31T08:28:58.210687Z"
    },
    "papermill": {
     "duration": 1.482456,
     "end_time": "2023-05-31T08:28:58.214500",
     "exception": false,
     "start_time": "2023-05-31T08:28:56.732044",
     "status": "completed"
    },
    "tags": []
   },
   "outputs": [],
   "source": [
    "import pandas as pd\n",
    "import numpy as np\n",
    "import matplotlib.pyplot as plt\n",
    "import seaborn as sns\n",
    "from IPython.display import HTML\n",
    "\n",
    "plt.style.use(\"ggplot\")"
   ]
  },
  {
   "cell_type": "markdown",
   "id": "bc7e0d95",
   "metadata": {
    "papermill": {
     "duration": 0.017794,
     "end_time": "2023-05-31T08:28:58.299464",
     "exception": false,
     "start_time": "2023-05-31T08:28:58.281670",
     "status": "completed"
    },
    "tags": []
   },
   "source": [
    "# Import the Data"
   ]
  },
  {
   "cell_type": "code",
   "execution_count": null,
   "id": "ba22584a",
   "metadata": {
    "execution": {
     "iopub.execute_input": "2023-05-31T08:28:58.337498Z",
     "iopub.status.busy": "2023-05-31T08:28:58.337107Z",
     "iopub.status.idle": "2023-05-31T08:28:58.429327Z",
     "shell.execute_reply": "2023-05-31T08:28:58.428505Z"
    },
    "papermill": {
     "duration": 0.11418,
     "end_time": "2023-05-31T08:28:58.431778",
     "exception": false,
     "start_time": "2023-05-31T08:28:58.317598",
     "status": "completed"
    },
    "tags": []
   },
   "outputs": [],
   "source": [
    "train = pd.read_csv(\"/kaggle/input/house-prices-advanced-regression-techniques/train.csv\")\n",
    "test = pd.read_csv(\"/kaggle/input/house-prices-advanced-regression-techniques/test.csv\")"
   ]
  },
  {
   "cell_type": "code",
   "execution_count": null,
   "id": "909d8aeb",
   "metadata": {
    "execution": {
     "iopub.execute_input": "2023-05-31T08:28:58.471397Z",
     "iopub.status.busy": "2023-05-31T08:28:58.470429Z",
     "iopub.status.idle": "2023-05-31T08:28:58.477252Z",
     "shell.execute_reply": "2023-05-31T08:28:58.476441Z"
    },
    "papermill": {
     "duration": 0.028326,
     "end_time": "2023-05-31T08:28:58.479241",
     "exception": false,
     "start_time": "2023-05-31T08:28:58.450915",
     "status": "completed"
    },
    "tags": []
   },
   "outputs": [],
   "source": [
    "train.columns"
   ]
  },
  {
   "cell_type": "code",
   "execution_count": null,
   "id": "3e5963cb",
   "metadata": {
    "execution": {
     "iopub.execute_input": "2023-05-31T08:28:58.519105Z",
     "iopub.status.busy": "2023-05-31T08:28:58.518506Z",
     "iopub.status.idle": "2023-05-31T08:28:58.562688Z",
     "shell.execute_reply": "2023-05-31T08:28:58.561570Z"
    },
    "papermill": {
     "duration": 0.066771,
     "end_time": "2023-05-31T08:28:58.565080",
     "exception": false,
     "start_time": "2023-05-31T08:28:58.498309",
     "status": "completed"
    },
    "tags": []
   },
   "outputs": [],
   "source": [
    "train.head()"
   ]
  },
  {
   "cell_type": "code",
   "execution_count": null,
   "id": "36c950f3",
   "metadata": {
    "execution": {
     "iopub.execute_input": "2023-05-31T08:28:58.604345Z",
     "iopub.status.busy": "2023-05-31T08:28:58.603930Z",
     "iopub.status.idle": "2023-05-31T08:28:58.649771Z",
     "shell.execute_reply": "2023-05-31T08:28:58.648558Z"
    },
    "papermill": {
     "duration": 0.068745,
     "end_time": "2023-05-31T08:28:58.652575",
     "exception": false,
     "start_time": "2023-05-31T08:28:58.583830",
     "status": "completed"
    },
    "tags": []
   },
   "outputs": [],
   "source": [
    "train.info()"
   ]
  },
  {
   "cell_type": "markdown",
   "id": "5c32112c",
   "metadata": {
    "papermill": {
     "duration": 0.018954,
     "end_time": "2023-05-31T08:28:58.690719",
     "exception": false,
     "start_time": "2023-05-31T08:28:58.671765",
     "status": "completed"
    },
    "tags": []
   },
   "source": [
    "# Many missing data in these columns."
   ]
  },
  {
   "cell_type": "code",
   "execution_count": null,
   "id": "fa8eb077",
   "metadata": {
    "execution": {
     "iopub.execute_input": "2023-05-31T08:28:58.733348Z",
     "iopub.status.busy": "2023-05-31T08:28:58.732896Z",
     "iopub.status.idle": "2023-05-31T08:28:58.760952Z",
     "shell.execute_reply": "2023-05-31T08:28:58.759837Z"
    },
    "papermill": {
     "duration": 0.052268,
     "end_time": "2023-05-31T08:28:58.763318",
     "exception": false,
     "start_time": "2023-05-31T08:28:58.711050",
     "status": "completed"
    },
    "tags": []
   },
   "outputs": [],
   "source": [
    "train.isna().sum().sort_values(ascending = False)[:6].index"
   ]
  },
  {
   "cell_type": "code",
   "execution_count": null,
   "id": "c4f10d6d",
   "metadata": {
    "execution": {
     "iopub.execute_input": "2023-05-31T08:28:58.803533Z",
     "iopub.status.busy": "2023-05-31T08:28:58.803109Z",
     "iopub.status.idle": "2023-05-31T08:28:58.810155Z",
     "shell.execute_reply": "2023-05-31T08:28:58.809128Z"
    },
    "papermill": {
     "duration": 0.029911,
     "end_time": "2023-05-31T08:28:58.812433",
     "exception": false,
     "start_time": "2023-05-31T08:28:58.782522",
     "status": "completed"
    },
    "tags": []
   },
   "outputs": [],
   "source": [
    "train = train.drop(['PoolQC', 'MiscFeature', 'Alley', 'Fence', 'FireplaceQu', 'LotFrontage'], axis=1)"
   ]
  },
  {
   "cell_type": "markdown",
   "id": "ffbb6b0f",
   "metadata": {
    "papermill": {
     "duration": 0.01931,
     "end_time": "2023-05-31T08:28:58.851621",
     "exception": false,
     "start_time": "2023-05-31T08:28:58.832311",
     "status": "completed"
    },
    "tags": []
   },
   "source": [
    "# Continuous Variables."
   ]
  },
  {
   "cell_type": "code",
   "execution_count": null,
   "id": "2c3a5aeb",
   "metadata": {
    "execution": {
     "iopub.execute_input": "2023-05-31T08:28:58.892334Z",
     "iopub.status.busy": "2023-05-31T08:28:58.891922Z",
     "iopub.status.idle": "2023-05-31T08:28:58.912664Z",
     "shell.execute_reply": "2023-05-31T08:28:58.911204Z"
    },
    "papermill": {
     "duration": 0.044175,
     "end_time": "2023-05-31T08:28:58.915433",
     "exception": false,
     "start_time": "2023-05-31T08:28:58.871258",
     "status": "completed"
    },
    "tags": []
   },
   "outputs": [],
   "source": [
    "continuos_variable = train.columns[train.nunique() > 20]\n",
    "continuos_variable = train[continuos_variable]"
   ]
  },
  {
   "cell_type": "code",
   "execution_count": null,
   "id": "9b040201",
   "metadata": {
    "execution": {
     "iopub.execute_input": "2023-05-31T08:28:58.956099Z",
     "iopub.status.busy": "2023-05-31T08:28:58.955371Z",
     "iopub.status.idle": "2023-05-31T08:28:59.035529Z",
     "shell.execute_reply": "2023-05-31T08:28:59.034328Z"
    },
    "papermill": {
     "duration": 0.103341,
     "end_time": "2023-05-31T08:28:59.038089",
     "exception": false,
     "start_time": "2023-05-31T08:28:58.934748",
     "status": "completed"
    },
    "tags": []
   },
   "outputs": [],
   "source": [
    "continuos_variable.describe().T"
   ]
  },
  {
   "cell_type": "markdown",
   "id": "a16fbc99",
   "metadata": {
    "papermill": {
     "duration": 0.019182,
     "end_time": "2023-05-31T08:28:59.076782",
     "exception": false,
     "start_time": "2023-05-31T08:28:59.057600",
     "status": "completed"
    },
    "tags": []
   },
   "source": [
    "# Categorical Data"
   ]
  },
  {
   "cell_type": "code",
   "execution_count": null,
   "id": "f3f76c55",
   "metadata": {
    "execution": {
     "iopub.execute_input": "2023-05-31T08:28:59.117365Z",
     "iopub.status.busy": "2023-05-31T08:28:59.116976Z",
     "iopub.status.idle": "2023-05-31T08:28:59.136406Z",
     "shell.execute_reply": "2023-05-31T08:28:59.135487Z"
    },
    "papermill": {
     "duration": 0.042753,
     "end_time": "2023-05-31T08:28:59.138868",
     "exception": false,
     "start_time": "2023-05-31T08:28:59.096115",
     "status": "completed"
    },
    "tags": []
   },
   "outputs": [],
   "source": [
    "Categorical = train.columns[train.nunique() <= 15]\n",
    "Categorical = train[Categorical]"
   ]
  },
  {
   "cell_type": "code",
   "execution_count": null,
   "id": "2449f6cd",
   "metadata": {
    "execution": {
     "iopub.execute_input": "2023-05-31T08:28:59.180587Z",
     "iopub.status.busy": "2023-05-31T08:28:59.180216Z",
     "iopub.status.idle": "2023-05-31T08:28:59.240273Z",
     "shell.execute_reply": "2023-05-31T08:28:59.239330Z"
    },
    "papermill": {
     "duration": 0.083688,
     "end_time": "2023-05-31T08:28:59.242685",
     "exception": false,
     "start_time": "2023-05-31T08:28:59.158997",
     "status": "completed"
    },
    "tags": []
   },
   "outputs": [],
   "source": [
    "Categorical.describe().T"
   ]
  },
  {
   "cell_type": "markdown",
   "id": "6a29d9e9",
   "metadata": {
    "papermill": {
     "duration": 0.019539,
     "end_time": "2023-05-31T08:28:59.281923",
     "exception": false,
     "start_time": "2023-05-31T08:28:59.262384",
     "status": "completed"
    },
    "tags": []
   },
   "source": [
    "# Exploratory Data Analysis"
   ]
  },
  {
   "cell_type": "code",
   "execution_count": null,
   "id": "48b4ca6f",
   "metadata": {
    "execution": {
     "iopub.execute_input": "2023-05-31T08:28:59.323315Z",
     "iopub.status.busy": "2023-05-31T08:28:59.322923Z",
     "iopub.status.idle": "2023-05-31T08:29:00.586807Z",
     "shell.execute_reply": "2023-05-31T08:29:00.585672Z"
    },
    "papermill": {
     "duration": 1.288764,
     "end_time": "2023-05-31T08:29:00.590504",
     "exception": false,
     "start_time": "2023-05-31T08:28:59.301740",
     "status": "completed"
    },
    "tags": []
   },
   "outputs": [],
   "source": [
    "corrmat = train.corr().nlargest(20, \"SalePrice\")\n",
    "corrmat = corrmat.T.sort_values(\"SalePrice\", ascending = False)[:20]\n",
    "mask = np.triu(np.ones_like(corrmat))\n",
    "plt.figure(figsize = (10, 10))\n",
    "sns.heatmap(data = corrmat, mask = mask, annot = True, square = True, cmap = \"Blues\", vmax = .8, annot_kws = {\"fontsize\" : 8})"
   ]
  },
  {
   "cell_type": "code",
   "execution_count": null,
   "id": "3bd7758c",
   "metadata": {
    "execution": {
     "iopub.execute_input": "2023-05-31T08:29:00.639061Z",
     "iopub.status.busy": "2023-05-31T08:29:00.638151Z",
     "iopub.status.idle": "2023-05-31T08:29:00.705177Z",
     "shell.execute_reply": "2023-05-31T08:29:00.703593Z"
    },
    "papermill": {
     "duration": 0.096839,
     "end_time": "2023-05-31T08:29:00.710616",
     "exception": false,
     "start_time": "2023-05-31T08:29:00.613777",
     "status": "completed"
    },
    "tags": []
   },
   "outputs": [],
   "source": [
    "categoricals = train.columns[train.nunique() <= 10]\n",
    "\n",
    "for column in categoricals:\n",
    "    print(f\"Feature name: {column}\\n\")\n",
    "    print(train[column].value_counts())\n",
    "    print(\"\")\n",
    "    print(\"=\"*20)"
   ]
  },
  {
   "cell_type": "code",
   "execution_count": null,
   "id": "344bdf46",
   "metadata": {
    "execution": {
     "iopub.execute_input": "2023-05-31T08:29:00.760451Z",
     "iopub.status.busy": "2023-05-31T08:29:00.759365Z",
     "iopub.status.idle": "2023-05-31T08:29:05.078544Z",
     "shell.execute_reply": "2023-05-31T08:29:05.077364Z"
    },
    "papermill": {
     "duration": 4.347705,
     "end_time": "2023-05-31T08:29:05.082226",
     "exception": false,
     "start_time": "2023-05-31T08:29:00.734521",
     "status": "completed"
    },
    "tags": []
   },
   "outputs": [],
   "source": [
    "cols = train.columns[train.nunique() > 20]\n",
    "cols = cols.drop(\"Neighborhood\")\n",
    "\n",
    "fig, axes = plt.subplots(6, 4, figsize = (20, 20))\n",
    "\n",
    "for i, name in enumerate(cols):\n",
    "    \n",
    "    r, c = i//4, i%4\n",
    "    sns.boxplot(data = train[name], ax = axes[r, c])\n",
    "    axes[r, c].set_title(name)"
   ]
  },
  {
   "cell_type": "code",
   "execution_count": null,
   "id": "92cebd77",
   "metadata": {
    "execution": {
     "iopub.execute_input": "2023-05-31T08:29:05.138458Z",
     "iopub.status.busy": "2023-05-31T08:29:05.138057Z",
     "iopub.status.idle": "2023-05-31T08:29:06.199290Z",
     "shell.execute_reply": "2023-05-31T08:29:06.198470Z"
    },
    "papermill": {
     "duration": 1.092291,
     "end_time": "2023-05-31T08:29:06.201656",
     "exception": false,
     "start_time": "2023-05-31T08:29:05.109365",
     "status": "completed"
    },
    "tags": []
   },
   "outputs": [],
   "source": [
    "yb = train.groupby([\"YearBuilt\" ,\"OverallQual\"]).agg({\"SalePrice\" : \"mean\"})\n",
    "yb.reset_index(inplace = True)\n",
    "plt.figure(figsize = (30, 30))\n",
    "sns.scatterplot(data = yb, x = \"YearBuilt\", y = \"SalePrice\", hue = \"OverallQual\", size=\"OverallQual\", palette = \"Blues\")\n",
    "plt.xticks(rotation = 90)\n",
    "\n",
    "plt.show()"
   ]
  },
  {
   "cell_type": "code",
   "execution_count": null,
   "id": "3b12ab77",
   "metadata": {
    "execution": {
     "iopub.execute_input": "2023-05-31T08:29:06.264092Z",
     "iopub.status.busy": "2023-05-31T08:29:06.263557Z",
     "iopub.status.idle": "2023-05-31T08:29:06.606507Z",
     "shell.execute_reply": "2023-05-31T08:29:06.605513Z"
    },
    "papermill": {
     "duration": 0.377754,
     "end_time": "2023-05-31T08:29:06.609773",
     "exception": false,
     "start_time": "2023-05-31T08:29:06.232019",
     "status": "completed"
    },
    "tags": []
   },
   "outputs": [],
   "source": [
    "plt.figure(figsize=(20, 6))\n",
    "sns.countplot(data=train, x=\"OverallQual\", color = \"skyblue\")\n",
    "plt.xlabel(\"OverallQual\")\n",
    "plt.ylabel(\"Count\")\n",
    "\n",
    "plt.show()"
   ]
  },
  {
   "cell_type": "code",
   "execution_count": null,
   "id": "efead472",
   "metadata": {
    "execution": {
     "iopub.execute_input": "2023-05-31T08:29:06.678872Z",
     "iopub.status.busy": "2023-05-31T08:29:06.678154Z",
     "iopub.status.idle": "2023-05-31T08:29:07.279824Z",
     "shell.execute_reply": "2023-05-31T08:29:07.278775Z"
    },
    "papermill": {
     "duration": 0.640238,
     "end_time": "2023-05-31T08:29:07.283631",
     "exception": false,
     "start_time": "2023-05-31T08:29:06.643393",
     "status": "completed"
    },
    "tags": []
   },
   "outputs": [],
   "source": [
    "plt.figure(figsize = (15, 10))\n",
    "sns.histplot(train.SalePrice, kde = True)"
   ]
  },
  {
   "cell_type": "code",
   "execution_count": null,
   "id": "2debaefb",
   "metadata": {
    "execution": {
     "iopub.execute_input": "2023-05-31T08:29:07.354840Z",
     "iopub.status.busy": "2023-05-31T08:29:07.354067Z",
     "iopub.status.idle": "2023-05-31T08:29:07.553797Z",
     "shell.execute_reply": "2023-05-31T08:29:07.552669Z"
    },
    "papermill": {
     "duration": 0.239629,
     "end_time": "2023-05-31T08:29:07.558804",
     "exception": false,
     "start_time": "2023-05-31T08:29:07.319175",
     "status": "completed"
    },
    "tags": []
   },
   "outputs": [],
   "source": [
    "plt.figure(figsize=(15, 10))\n",
    "bins = [0, 100000, 200000,300000, train['SalePrice'].max()]\n",
    "labels = ['0-100k', '100k-200k','200k-300k', '300k+']\n",
    "train['price_range'] = pd.cut(train['SalePrice'], bins=bins, labels=labels)\n",
    "\n",
    "plt.pie(\n",
    "\n",
    "train['price_range'].value_counts().sort_values(),\n",
    "autopct='%.1f%%',\n",
    "labels=labels,\n",
    "labeldistance=1.15,\n",
    "wedgeprops = { 'linewidth' : 3, 'edgecolor' : 'white' }\n",
    "\n",
    ")"
   ]
  },
  {
   "cell_type": "code",
   "execution_count": null,
   "id": "9130cb1a",
   "metadata": {
    "execution": {
     "iopub.execute_input": "2023-05-31T08:29:07.644510Z",
     "iopub.status.busy": "2023-05-31T08:29:07.643455Z",
     "iopub.status.idle": "2023-05-31T08:29:07.652226Z",
     "shell.execute_reply": "2023-05-31T08:29:07.651482Z"
    },
    "papermill": {
     "duration": 0.046838,
     "end_time": "2023-05-31T08:29:07.654287",
     "exception": false,
     "start_time": "2023-05-31T08:29:07.607449",
     "status": "completed"
    },
    "tags": []
   },
   "outputs": [],
   "source": [
    "train = train[train[\"SalePrice\"] < 350000]\n",
    "train.shape"
   ]
  },
  {
   "cell_type": "code",
   "execution_count": null,
   "id": "db872433",
   "metadata": {
    "execution": {
     "iopub.execute_input": "2023-05-31T08:29:07.724615Z",
     "iopub.status.busy": "2023-05-31T08:29:07.723568Z",
     "iopub.status.idle": "2023-05-31T08:29:07.946767Z",
     "shell.execute_reply": "2023-05-31T08:29:07.945755Z"
    },
    "papermill": {
     "duration": 0.26067,
     "end_time": "2023-05-31T08:29:07.949080",
     "exception": false,
     "start_time": "2023-05-31T08:29:07.688410",
     "status": "completed"
    },
    "tags": []
   },
   "outputs": [],
   "source": [
    "plt.figure(figsize=(15, 10))\n",
    "bins = [0, 100000, 200000, 300000, train['SalePrice'].max()]\n",
    "labels = ['0-100k', '100k-200k', '200k-300k', '300k+']\n",
    "train['price_range'] = pd.cut(train['SalePrice'], bins=bins, labels=labels)\n",
    "\n",
    "plt.pie(\n",
    "    train['price_range'].value_counts().sort_values(),\n",
    "    autopct='%.1f%%',\n",
    "    labels=labels,\n",
    "    labeldistance=1.15,\n",
    "    wedgeprops={'linewidth': 3, 'edgecolor': 'white'},\n",
    "    textprops={'color': 'black'} \n",
    ")\n",
    "\n",
    "plt.show()\n"
   ]
  },
  {
   "cell_type": "markdown",
   "id": "8f3bedda",
   "metadata": {
    "papermill": {
     "duration": 0.035037,
     "end_time": "2023-05-31T08:29:08.020269",
     "exception": false,
     "start_time": "2023-05-31T08:29:07.985232",
     "status": "completed"
    },
    "tags": []
   },
   "source": [
    "# Mean SalePrice by Features"
   ]
  },
  {
   "cell_type": "code",
   "execution_count": null,
   "id": "6c063872",
   "metadata": {
    "execution": {
     "iopub.execute_input": "2023-05-31T08:29:08.092781Z",
     "iopub.status.busy": "2023-05-31T08:29:08.092339Z",
     "iopub.status.idle": "2023-05-31T08:29:08.100064Z",
     "shell.execute_reply": "2023-05-31T08:29:08.099109Z"
    },
    "papermill": {
     "duration": 0.046862,
     "end_time": "2023-05-31T08:29:08.102232",
     "exception": false,
     "start_time": "2023-05-31T08:29:08.055370",
     "status": "completed"
    },
    "tags": []
   },
   "outputs": [],
   "source": [
    "def plot_mean_saleprice(column_name):\n",
    "    groupby_column = train.groupby(column_name).agg({\"SalePrice\": \"mean\"})\n",
    "\n",
    "    plt.figure(figsize=(20, 8))\n",
    "    sns.barplot(data=groupby_column, x=groupby_column.index, y=\"SalePrice\", color='blue')\n",
    "\n",
    "    max_saleprice_category = groupby_column['SalePrice'].idxmax()\n",
    "\n",
    "    index = groupby_column.index.get_loc(max_saleprice_category)\n",
    "    plt.gca().patches[index].set_facecolor('red')\n",
    "\n",
    "    plt.xlabel(column_name)\n",
    "    plt.ylabel('SalePrice')\n",
    "    plt.title(f'Mean SalePrice by {column_name}')\n",
    "    if column_name == \"YearBuilt\":\n",
    "        plt.xticks(rotation=90)\n",
    "    \n",
    "\n",
    "    plt.show()\n"
   ]
  },
  {
   "cell_type": "code",
   "execution_count": null,
   "id": "11c21f2c",
   "metadata": {
    "execution": {
     "iopub.execute_input": "2023-05-31T08:29:08.175245Z",
     "iopub.status.busy": "2023-05-31T08:29:08.174839Z",
     "iopub.status.idle": "2023-05-31T08:29:10.902950Z",
     "shell.execute_reply": "2023-05-31T08:29:10.901992Z"
    },
    "papermill": {
     "duration": 2.767211,
     "end_time": "2023-05-31T08:29:10.905116",
     "exception": false,
     "start_time": "2023-05-31T08:29:08.137905",
     "status": "completed"
    },
    "tags": []
   },
   "outputs": [],
   "source": [
    "import matplotlib.pyplot as plt\n",
    "\n",
    "ap = [\"OverallQual\", \"YearBuilt\", \"GarageCars\", \"MoSold\"]\n",
    "\n",
    "plt.figure(figsize=(10, 6))\n",
    "\n",
    "for column in ap:\n",
    "    plot_mean_saleprice(column)\n",
    "\n",
    "plt.tight_layout()\n",
    "plt.show()\n"
   ]
  },
  {
   "cell_type": "markdown",
   "id": "93dab837",
   "metadata": {
    "papermill": {
     "duration": 0.041869,
     "end_time": "2023-05-31T08:29:10.986614",
     "exception": false,
     "start_time": "2023-05-31T08:29:10.944745",
     "status": "completed"
    },
    "tags": []
   },
   "source": [
    "# Mean SalePrice by Time Series Data"
   ]
  },
  {
   "cell_type": "code",
   "execution_count": null,
   "id": "421170e5",
   "metadata": {
    "execution": {
     "iopub.execute_input": "2023-05-31T08:29:11.067882Z",
     "iopub.status.busy": "2023-05-31T08:29:11.066826Z",
     "iopub.status.idle": "2023-05-31T08:29:11.454785Z",
     "shell.execute_reply": "2023-05-31T08:29:11.453664Z"
    },
    "papermill": {
     "duration": 0.431792,
     "end_time": "2023-05-31T08:29:11.457951",
     "exception": false,
     "start_time": "2023-05-31T08:29:11.026159",
     "status": "completed"
    },
    "tags": []
   },
   "outputs": [],
   "source": [
    "import numpy as np\n",
    "\n",
    "pt = train.groupby(\"YearRemodAdd\").agg({\"SalePrice\": \"mean\"})\n",
    "max_price = pt[\"SalePrice\"].max()\n",
    "max_year = pt.loc[pt[\"SalePrice\"] == max_price].index[0]\n",
    "\n",
    "# Calcular la línea de tendencia\n",
    "coefficients = np.polyfit(pt.index, pt[\"SalePrice\"], 1)\n",
    "trendline = np.polyval(coefficients, pt.index)\n",
    "\n",
    "plt.figure(figsize=(10, 5))\n",
    "plt.plot(pt.index, pt[\"SalePrice\"])\n",
    "plt.scatter(max_year, max_price, color=\"blue\", label=\"Highest Price\")\n",
    "plt.plot(pt.index, trendline, color=\"blue\", label=\"Trendline\")\n",
    "plt.legend()\n",
    "\n"
   ]
  },
  {
   "cell_type": "code",
   "execution_count": null,
   "id": "6d8f162e",
   "metadata": {
    "execution": {
     "iopub.execute_input": "2023-05-31T08:29:11.541563Z",
     "iopub.status.busy": "2023-05-31T08:29:11.541179Z",
     "iopub.status.idle": "2023-05-31T08:29:13.197726Z",
     "shell.execute_reply": "2023-05-31T08:29:13.196785Z"
    },
    "papermill": {
     "duration": 1.701443,
     "end_time": "2023-05-31T08:29:13.200498",
     "exception": false,
     "start_time": "2023-05-31T08:29:11.499055",
     "status": "completed"
    },
    "tags": []
   },
   "outputs": [],
   "source": [
    "import statsmodels.api as sm\n",
    "\n",
    "def plot_with_autocorrelation(column):\n",
    "    # Gráfico de promedio de venta por año\n",
    "    pt = train.groupby(column).agg({\"SalePrice\": \"mean\"})\n",
    "    max_price = pt[\"SalePrice\"].max()\n",
    "    max_value_index = pt.loc[pt[\"SalePrice\"] == max_price].index[0]\n",
    "\n",
    "\n",
    "    autocorrelation = sm.tsa.stattools.acf(pt[\"SalePrice\"])\n",
    "    partial_autocorrelation = sm.tsa.stattools.pacf(pt[\"SalePrice\"])\n",
    "\n",
    "    # Configurar el tamaño y diseño de los subplots\n",
    "    fig, axes = plt.subplots(3, figsize=(15, 8))\n",
    "\n",
    "    axes[0].plot(pt.index, pt[\"SalePrice\"])\n",
    "    axes[0].scatter(max_value_index, max_price, color=\"blue\", label=\"Highest Price\")\n",
    "    axes[0].legend()\n",
    "    axes[0].set_xlabel(column)\n",
    "    axes[0].set_ylabel(\"Sale Price\")\n",
    "    axes[0].set_title(\"Average Sale Price by \" + column)\n",
    "\n",
    "    sm.graphics.tsa.plot_acf(pt[\"SalePrice\"], ax=axes[1])\n",
    "    axes[1].set_xlabel(\"Lag\")\n",
    "    axes[1].set_ylabel(\"Autocorrelation\")\n",
    "    axes[1].set_title(\"Autocorrelation\")\n",
    "\n",
    "    sm.graphics.tsa.plot_pacf(pt[\"SalePrice\"], ax=axes[2])\n",
    "    axes[2].set_xlabel(\"Lag\")\n",
    "    axes[2].set_ylabel(\"Partial Autocorrelation\")\n",
    "    axes[2].set_title(\"Partial Autocorrelation\")\n",
    "\n",
    "    plt.tight_layout()\n",
    "    plt.show()\n"
   ]
  },
  {
   "cell_type": "code",
   "execution_count": null,
   "id": "e88fd101",
   "metadata": {
    "execution": {
     "iopub.execute_input": "2023-05-31T08:29:13.284991Z",
     "iopub.status.busy": "2023-05-31T08:29:13.284560Z",
     "iopub.status.idle": "2023-05-31T08:29:14.287830Z",
     "shell.execute_reply": "2023-05-31T08:29:14.287011Z"
    },
    "papermill": {
     "duration": 1.048765,
     "end_time": "2023-05-31T08:29:14.290127",
     "exception": false,
     "start_time": "2023-05-31T08:29:13.241362",
     "status": "completed"
    },
    "tags": []
   },
   "outputs": [],
   "source": [
    "plot_with_autocorrelation(\"YearBuilt\")"
   ]
  },
  {
   "cell_type": "code",
   "execution_count": null,
   "id": "fbde3db4",
   "metadata": {
    "execution": {
     "iopub.execute_input": "2023-05-31T08:29:14.376648Z",
     "iopub.status.busy": "2023-05-31T08:29:14.375959Z",
     "iopub.status.idle": "2023-05-31T08:29:15.345921Z",
     "shell.execute_reply": "2023-05-31T08:29:15.345155Z"
    },
    "papermill": {
     "duration": 1.015307,
     "end_time": "2023-05-31T08:29:15.348402",
     "exception": false,
     "start_time": "2023-05-31T08:29:14.333095",
     "status": "completed"
    },
    "tags": []
   },
   "outputs": [],
   "source": [
    "plot_with_autocorrelation(\"YearRemodAdd\")"
   ]
  },
  {
   "cell_type": "code",
   "execution_count": null,
   "id": "f4f1cc84",
   "metadata": {
    "execution": {
     "iopub.execute_input": "2023-05-31T08:29:15.442863Z",
     "iopub.status.busy": "2023-05-31T08:29:15.441812Z",
     "iopub.status.idle": "2023-05-31T08:29:15.450093Z",
     "shell.execute_reply": "2023-05-31T08:29:15.449090Z"
    },
    "papermill": {
     "duration": 0.057531,
     "end_time": "2023-05-31T08:29:15.452273",
     "exception": false,
     "start_time": "2023-05-31T08:29:15.394742",
     "status": "completed"
    },
    "tags": []
   },
   "outputs": [],
   "source": [
    "train[\"YrSold\"].value_counts()"
   ]
  },
  {
   "cell_type": "code",
   "execution_count": null,
   "id": "2caac44a",
   "metadata": {
    "execution": {
     "iopub.execute_input": "2023-05-31T08:29:15.542496Z",
     "iopub.status.busy": "2023-05-31T08:29:15.541917Z",
     "iopub.status.idle": "2023-05-31T08:29:15.550931Z",
     "shell.execute_reply": "2023-05-31T08:29:15.549929Z"
    },
    "papermill": {
     "duration": 0.057232,
     "end_time": "2023-05-31T08:29:15.553116",
     "exception": false,
     "start_time": "2023-05-31T08:29:15.495884",
     "status": "completed"
    },
    "tags": []
   },
   "outputs": [],
   "source": [
    "train[\"MoSold\"].value_counts()"
   ]
  },
  {
   "cell_type": "code",
   "execution_count": null,
   "id": "1506893f",
   "metadata": {
    "execution": {
     "iopub.execute_input": "2023-05-31T08:29:15.645957Z",
     "iopub.status.busy": "2023-05-31T08:29:15.645169Z",
     "iopub.status.idle": "2023-05-31T08:29:15.657804Z",
     "shell.execute_reply": "2023-05-31T08:29:15.656836Z"
    },
    "papermill": {
     "duration": 0.061531,
     "end_time": "2023-05-31T08:29:15.660100",
     "exception": false,
     "start_time": "2023-05-31T08:29:15.598569",
     "status": "completed"
    },
    "tags": []
   },
   "outputs": [],
   "source": [
    "train[[\"YrSold\", \"MoSold\"]]"
   ]
  },
  {
   "cell_type": "code",
   "execution_count": null,
   "id": "36b816b5",
   "metadata": {
    "execution": {
     "iopub.execute_input": "2023-05-31T08:29:15.751304Z",
     "iopub.status.busy": "2023-05-31T08:29:15.750902Z",
     "iopub.status.idle": "2023-05-31T08:29:15.761173Z",
     "shell.execute_reply": "2023-05-31T08:29:15.760396Z"
    },
    "papermill": {
     "duration": 0.058127,
     "end_time": "2023-05-31T08:29:15.763418",
     "exception": false,
     "start_time": "2023-05-31T08:29:15.705291",
     "status": "completed"
    },
    "tags": []
   },
   "outputs": [],
   "source": [
    "SalesXMonth = train.groupby([\"YrSold\", \"MoSold\"]).agg({\"SalePrice\" : \"mean\"})\n",
    "SalesXMonth['DateSale'] = pd.to_datetime(SalesXMonth.index.map(lambda x: f'{x[0]}-{x[1]}-01'))\n",
    "SalesXMonth = SalesXMonth.reset_index(drop=True)\n"
   ]
  },
  {
   "cell_type": "code",
   "execution_count": null,
   "id": "b6d70aa9",
   "metadata": {
    "execution": {
     "iopub.execute_input": "2023-05-31T08:29:15.855572Z",
     "iopub.status.busy": "2023-05-31T08:29:15.854929Z",
     "iopub.status.idle": "2023-05-31T08:29:17.370576Z",
     "shell.execute_reply": "2023-05-31T08:29:17.369472Z"
    },
    "papermill": {
     "duration": 1.565123,
     "end_time": "2023-05-31T08:29:17.373344",
     "exception": false,
     "start_time": "2023-05-31T08:29:15.808221",
     "status": "completed"
    },
    "tags": []
   },
   "outputs": [],
   "source": [
    "max_index = SalesXMonth['SalePrice'].idxmax()\n",
    "max_date = SalesXMonth.loc[max_index, 'DateSale']\n",
    "max_price = SalesXMonth.loc[max_index, 'SalePrice']\n",
    "fig, axes = plt.subplots(3, 1, figsize=(15, 24))\n",
    "\n",
    "axes[0].plot(SalesXMonth['DateSale'], SalesXMonth['SalePrice'])\n",
    "axes[0].scatter(max_date, max_price, color='blue', label='Highest Price')\n",
    "axes[0].set_xlabel('Sale Date')\n",
    "axes[0].set_ylabel('Average Sale Price')\n",
    "axes[0].set_title('Average Sale Price by Sale Date')\n",
    "axes[0].tick_params(axis='x', rotation=45)\n",
    "axes[0].legend()\n",
    "\n",
    "sm.graphics.tsa.plot_acf(SalesXMonth['SalePrice'], lags=12, ax=axes[1])\n",
    "axes[1].set_xlabel('Lag')\n",
    "axes[1].set_ylabel('Autocorrelation')\n",
    "axes[1].set_title('Autocorrelation of Average Sale Price')\n",
    "axes[1].tick_params(axis='x', rotation=45)\n",
    "\n",
    "sm.graphics.tsa.plot_pacf(SalesXMonth['SalePrice'], lags=12, ax=axes[2])\n",
    "axes[2].set_xlabel('Lag')\n",
    "axes[2].set_ylabel('Partial Autocorrelation')\n",
    "axes[2].set_title('Partial Autocorrelation of Average Sale Price')\n",
    "axes[2].tick_params(axis='x', rotation=45)\n",
    "\n",
    "# Ajustar la disposición de los subplots y mostrar la figura\n",
    "plt.tight_layout()\n",
    "plt.show()\n",
    "\n"
   ]
  },
  {
   "cell_type": "markdown",
   "id": "ed7c2966",
   "metadata": {
    "papermill": {
     "duration": 0.048129,
     "end_time": "2023-05-31T08:29:17.472528",
     "exception": false,
     "start_time": "2023-05-31T08:29:17.424399",
     "status": "completed"
    },
    "tags": []
   },
   "source": [
    "# Feature Engineering"
   ]
  },
  {
   "cell_type": "code",
   "execution_count": null,
   "id": "f26ac903",
   "metadata": {
    "execution": {
     "iopub.execute_input": "2023-05-31T08:29:17.571492Z",
     "iopub.status.busy": "2023-05-31T08:29:17.571087Z",
     "iopub.status.idle": "2023-05-31T08:29:17.578544Z",
     "shell.execute_reply": "2023-05-31T08:29:17.577735Z"
    },
    "papermill": {
     "duration": 0.059932,
     "end_time": "2023-05-31T08:29:17.580621",
     "exception": false,
     "start_time": "2023-05-31T08:29:17.520689",
     "status": "completed"
    },
    "tags": []
   },
   "outputs": [],
   "source": [
    "train[\"GarageVolume\"] = train[\"GarageCars\"] * train[\"GarageArea\"]\n",
    "train[\"GarageAreaRatio\"] = train[\"GarageArea\"] / train[\"GrLivArea\"]"
   ]
  },
  {
   "cell_type": "code",
   "execution_count": null,
   "id": "c16ab389",
   "metadata": {
    "execution": {
     "iopub.execute_input": "2023-05-31T08:29:17.679209Z",
     "iopub.status.busy": "2023-05-31T08:29:17.678786Z",
     "iopub.status.idle": "2023-05-31T08:29:17.687344Z",
     "shell.execute_reply": "2023-05-31T08:29:17.686409Z"
    },
    "papermill": {
     "duration": 0.060189,
     "end_time": "2023-05-31T08:29:17.689368",
     "exception": false,
     "start_time": "2023-05-31T08:29:17.629179",
     "status": "completed"
    },
    "tags": []
   },
   "outputs": [],
   "source": [
    "train[\"ExterQual\"].value_counts()\n"
   ]
  },
  {
   "cell_type": "code",
   "execution_count": null,
   "id": "983eec09",
   "metadata": {
    "execution": {
     "iopub.execute_input": "2023-05-31T08:29:17.787991Z",
     "iopub.status.busy": "2023-05-31T08:29:17.786919Z",
     "iopub.status.idle": "2023-05-31T08:29:17.796525Z",
     "shell.execute_reply": "2023-05-31T08:29:17.795480Z"
    },
    "papermill": {
     "duration": 0.06145,
     "end_time": "2023-05-31T08:29:17.798977",
     "exception": false,
     "start_time": "2023-05-31T08:29:17.737527",
     "status": "completed"
    },
    "tags": []
   },
   "outputs": [],
   "source": [
    "# Reemplazar los valores en la columna \"ExterQual\"\n",
    "train.replace({\"ExterQual\": {\"Ex\": 4, \"Gd\": 3, \"TA\": 2, \"Fa\": 1}}, inplace=True)\n"
   ]
  },
  {
   "cell_type": "code",
   "execution_count": null,
   "id": "3f778542",
   "metadata": {
    "execution": {
     "iopub.execute_input": "2023-05-31T08:29:17.898015Z",
     "iopub.status.busy": "2023-05-31T08:29:17.897514Z",
     "iopub.status.idle": "2023-05-31T08:29:18.214905Z",
     "shell.execute_reply": "2023-05-31T08:29:18.213727Z"
    },
    "papermill": {
     "duration": 0.37069,
     "end_time": "2023-05-31T08:29:18.217982",
     "exception": false,
     "start_time": "2023-05-31T08:29:17.847292",
     "status": "completed"
    },
    "tags": []
   },
   "outputs": [],
   "source": [
    "# Agrupar los datos por calidad general de la vivienda (OverallQual) y calcular la calidad promedio del material exterior (ExterQual)\n",
    "quality_data = train.groupby(\"OverallQual\")[\"ExterQual\"].mean()\n",
    "\n",
    "# Crear el gráfico de barras\n",
    "plt.bar(quality_data.index, quality_data.values)\n",
    "plt.xlabel(\"OverallQual\")\n",
    "plt.ylabel(\"Average ExterQual\")\n",
    "plt.title(\"Relationship between OverallQual and ExterQual\")\n",
    "plt.show()\n"
   ]
  },
  {
   "cell_type": "code",
   "execution_count": null,
   "id": "0eac688d",
   "metadata": {
    "execution": {
     "iopub.execute_input": "2023-05-31T08:29:18.319801Z",
     "iopub.status.busy": "2023-05-31T08:29:18.319082Z",
     "iopub.status.idle": "2023-05-31T08:29:18.327171Z",
     "shell.execute_reply": "2023-05-31T08:29:18.326466Z"
    },
    "papermill": {
     "duration": 0.06097,
     "end_time": "2023-05-31T08:29:18.329244",
     "exception": false,
     "start_time": "2023-05-31T08:29:18.268274",
     "status": "completed"
    },
    "tags": []
   },
   "outputs": [],
   "source": [
    "train[\"OverallQual\"] = train[\"OverallQual\"] / train[\"OverallQual\"].max()\n",
    "\n",
    "train[\"ExterQual\"] = (train[\"ExterQual\"] - train[\"ExterQual\"].min()) / (train[\"ExterQual\"].max() - train[\"ExterQual\"].min())\n",
    "\n",
    "train[\"TotalQuall\"] = (train[\"OverallQual\"] + train[\"ExterQual\"]) / 2\n"
   ]
  },
  {
   "cell_type": "code",
   "execution_count": null,
   "id": "95afb2bd",
   "metadata": {
    "papermill": {
     "duration": 0.050664,
     "end_time": "2023-05-31T08:29:18.428782",
     "exception": false,
     "start_time": "2023-05-31T08:29:18.378118",
     "status": "completed"
    },
    "tags": []
   },
   "outputs": [],
   "source": []
  },
  {
   "cell_type": "code",
   "execution_count": null,
   "id": "22dd730f",
   "metadata": {
    "execution": {
     "iopub.execute_input": "2023-05-31T08:29:18.528991Z",
     "iopub.status.busy": "2023-05-31T08:29:18.528297Z",
     "iopub.status.idle": "2023-05-31T08:29:18.859111Z",
     "shell.execute_reply": "2023-05-31T08:29:18.857975Z"
    },
    "papermill": {
     "duration": 0.384671,
     "end_time": "2023-05-31T08:29:18.861592",
     "exception": false,
     "start_time": "2023-05-31T08:29:18.476921",
     "status": "completed"
    },
    "tags": []
   },
   "outputs": [],
   "source": [
    "train.replace({\"KitchenQual\": {\"Ex\": 4, \"Gd\": 3, \"TA\": 2, \"Fa\": 1}}, inplace=True)\n",
    "\n",
    "plot_mean_saleprice(\"KitchenQual\")"
   ]
  },
  {
   "cell_type": "code",
   "execution_count": null,
   "id": "87913d9e",
   "metadata": {
    "execution": {
     "iopub.execute_input": "2023-05-31T08:29:18.962632Z",
     "iopub.status.busy": "2023-05-31T08:29:18.962198Z",
     "iopub.status.idle": "2023-05-31T08:29:19.325952Z",
     "shell.execute_reply": "2023-05-31T08:29:19.324697Z"
    },
    "papermill": {
     "duration": 0.416823,
     "end_time": "2023-05-31T08:29:19.328297",
     "exception": false,
     "start_time": "2023-05-31T08:29:18.911474",
     "status": "completed"
    },
    "tags": []
   },
   "outputs": [],
   "source": [
    "train.replace({\"HeatingQC\": {\"Ex\": 4, \"Gd\": 3, \"TA\": 2, \"Fa\": 1, \"Po\" : 0}}, inplace=True)\n",
    "\n",
    "plot_mean_saleprice(\"HeatingQC\")"
   ]
  },
  {
   "cell_type": "code",
   "execution_count": null,
   "id": "5a2aa0ca",
   "metadata": {
    "execution": {
     "iopub.execute_input": "2023-05-31T08:29:19.442767Z",
     "iopub.status.busy": "2023-05-31T08:29:19.441372Z",
     "iopub.status.idle": "2023-05-31T08:29:19.719860Z",
     "shell.execute_reply": "2023-05-31T08:29:19.718957Z"
    },
    "papermill": {
     "duration": 0.343138,
     "end_time": "2023-05-31T08:29:19.722455",
     "exception": false,
     "start_time": "2023-05-31T08:29:19.379317",
     "status": "completed"
    },
    "tags": []
   },
   "outputs": [],
   "source": [
    "train.replace({\"GarageQual\": {\"Ex\": 4, \"Gd\": 3, \"TA\": 2, \"Fa\": 1, \"Po\" : 0}}, inplace=True)\n",
    "\n",
    "plot_mean_saleprice(\"GarageQual\")"
   ]
  },
  {
   "cell_type": "code",
   "execution_count": null,
   "id": "67e077e4",
   "metadata": {
    "execution": {
     "iopub.execute_input": "2023-05-31T08:29:19.827998Z",
     "iopub.status.busy": "2023-05-31T08:29:19.827218Z",
     "iopub.status.idle": "2023-05-31T08:29:20.097205Z",
     "shell.execute_reply": "2023-05-31T08:29:20.096438Z"
    },
    "papermill": {
     "duration": 0.324493,
     "end_time": "2023-05-31T08:29:20.099521",
     "exception": false,
     "start_time": "2023-05-31T08:29:19.775028",
     "status": "completed"
    },
    "tags": []
   },
   "outputs": [],
   "source": [
    "train.replace({\"CentralAir\": {\"Y\" : 1, \"N\" : 0}}, inplace=True)\n",
    "\n",
    "plot_mean_saleprice(\"CentralAir\")"
   ]
  },
  {
   "cell_type": "code",
   "execution_count": null,
   "id": "d8380fac",
   "metadata": {
    "execution": {
     "iopub.execute_input": "2023-05-31T08:29:20.207370Z",
     "iopub.status.busy": "2023-05-31T08:29:20.206587Z",
     "iopub.status.idle": "2023-05-31T08:29:21.723477Z",
     "shell.execute_reply": "2023-05-31T08:29:21.722395Z"
    },
    "papermill": {
     "duration": 1.573748,
     "end_time": "2023-05-31T08:29:21.726033",
     "exception": false,
     "start_time": "2023-05-31T08:29:20.152285",
     "status": "completed"
    },
    "tags": []
   },
   "outputs": [],
   "source": [
    "corrmat = train.corr().nlargest(20, \"SalePrice\")\n",
    "corrmat = corrmat.T.sort_values(\"SalePrice\", ascending = False)[:20]\n",
    "mask = np.triu(np.ones_like(corrmat))\n",
    "plt.figure(figsize = (10, 10))\n",
    "sns.heatmap(data = corrmat, mask = mask, annot = True, square = True, cmap = \"YlGnBu\", annot_kws = {\"fontsize\" : 7})"
   ]
  },
  {
   "cell_type": "markdown",
   "id": "8a420052",
   "metadata": {
    "papermill": {
     "duration": 0.055486,
     "end_time": "2023-05-31T08:29:21.837554",
     "exception": false,
     "start_time": "2023-05-31T08:29:21.782068",
     "status": "completed"
    },
    "tags": []
   },
   "source": [
    "# Preprocessing"
   ]
  },
  {
   "cell_type": "code",
   "execution_count": null,
   "id": "832e4680",
   "metadata": {
    "execution": {
     "iopub.execute_input": "2023-05-31T08:29:21.950045Z",
     "iopub.status.busy": "2023-05-31T08:29:21.949423Z",
     "iopub.status.idle": "2023-05-31T08:29:22.354593Z",
     "shell.execute_reply": "2023-05-31T08:29:22.353522Z"
    },
    "papermill": {
     "duration": 0.464635,
     "end_time": "2023-05-31T08:29:22.357328",
     "exception": false,
     "start_time": "2023-05-31T08:29:21.892693",
     "status": "completed"
    },
    "tags": []
   },
   "outputs": [],
   "source": [
    "from sklearn.preprocessing import LabelEncoder\n",
    "from sklearn.impute import SimpleImputer\n",
    "from sklearn.preprocessing import StandardScaler\n",
    "from sklearn.model_selection import train_test_split\n",
    "\n",
    "class Dataset:\n",
    "    def __init__(self, df, is_train=True):\n",
    "        self.df = df\n",
    "        self.is_train = is_train\n",
    "\n",
    "    def preprocess_data(self):\n",
    "        processed_df = self.df.copy()\n",
    "        \n",
    "        if self.is_train:\n",
    "            processed_df = processed_df[processed_df[\"SalePrice\"] < 350000]\n",
    "            processed_df = processed_df[processed_df[\"GarageArea\"]  <= 1000 ]\n",
    "            processed_df = processed_df[processed_df[\"TotalBsmtSF\"]  <= 3000 ]\n",
    "            processed_df = processed_df[processed_df[\"GrLivArea\"]  <= 3000 ]\n",
    "            processed_df = processed_df[processed_df[\"LotArea\"]  <= 50000 ]\n",
    "        # Apply preprocessing steps\n",
    "        processed_df = processed_df.drop(['PoolQC', 'MiscFeature', 'Alley', 'Fence', 'FireplaceQu', 'LotFrontage', \"Id\"], axis=1)\n",
    "        processed_df[\"GarageVolume\"] = processed_df[\"GarageCars\"] * processed_df[\"GarageArea\"]\n",
    "        processed_df[\"GarageAreaRatio\"] = processed_df[\"GarageArea\"] / processed_df[\"GrLivArea\"]\n",
    "        processed_df.replace({\"ExterQual\": {\"Ex\": 4, \"Gd\": 3, \"TA\": 2, \"Fa\": 1}}, inplace=True)\n",
    "        processed_df[\"OverallQual\"] = processed_df[\"OverallQual\"] / processed_df[\"OverallQual\"].max()\n",
    "        processed_df[\"ExterQual\"] = (processed_df[\"ExterQual\"] - processed_df[\"ExterQual\"].min()) / (processed_df[\"ExterQual\"].max() - processed_df[\"ExterQual\"].min())\n",
    "        processed_df[\"TotalQuall\"] = (processed_df[\"OverallQual\"] + processed_df[\"ExterQual\"]) / 2\n",
    "        processed_df.replace({\"HeatingQC\": {\"Ex\": 4, \"Gd\": 3, \"TA\": 2, \"Fa\": 1, \"Po\" : 0}}, inplace=True)\n",
    "        processed_df.replace({\"GarageQual\": {\"Ex\": 4, \"Gd\": 3, \"TA\": 2, \"Fa\": 1, \"Po\" : 0}}, inplace=True)\n",
    "        processed_df.replace({\"KitchenQual\": {\"Ex\": 4, \"Gd\": 3, \"TA\": 2, \"Fa\": 1}}, inplace=True)\n",
    "        processed_df.replace({\"CentralAir\": {\"Y\" : 1, \"N\" : 0}}, inplace=True)\n",
    "\n",
    "        categorical_cols = processed_df.select_dtypes(include=['object']).columns\n",
    "        label_encoder = LabelEncoder()\n",
    "        processed_df[categorical_cols] = processed_df[categorical_cols].apply(label_encoder.fit_transform)\n",
    "        \n",
    "        numeric_cols = processed_df.select_dtypes(include=['float64', 'int64']).columns\n",
    "        imputer = SimpleImputer(strategy='median')\n",
    "        processed_df[numeric_cols] = imputer.fit_transform(processed_df[numeric_cols])\n",
    "        \n",
    "        return processed_df\n",
    "    def get_train_test_data(self):\n",
    "        processed_df = self.preprocess_data()\n",
    "\n",
    "        X = processed_df\n",
    "\n",
    "        if self.is_train:\n",
    "            X = X.drop('SalePrice', axis=1)\n",
    "            y = processed_df['SalePrice']\n",
    "            X_train, X_test, y_train, y_test = train_test_split(X, y, test_size=0.2, random_state=42)\n",
    "\n",
    "            scaler = StandardScaler()\n",
    "            X_train = scaler.fit_transform(X_train)\n",
    "            X_test = scaler.transform(X_test)\n",
    "\n",
    "            return X_train, X_test, y_train, y_test\n",
    "        else:\n",
    "            scaler = StandardScaler()\n",
    "            X = scaler.fit_transform(X)\n",
    "\n",
    "            return X\n"
   ]
  },
  {
   "cell_type": "code",
   "execution_count": null,
   "id": "66b749e2",
   "metadata": {
    "execution": {
     "iopub.execute_input": "2023-05-31T08:29:22.472948Z",
     "iopub.status.busy": "2023-05-31T08:29:22.471568Z",
     "iopub.status.idle": "2023-05-31T08:29:22.617325Z",
     "shell.execute_reply": "2023-05-31T08:29:22.616045Z"
    },
    "papermill": {
     "duration": 0.204653,
     "end_time": "2023-05-31T08:29:22.619993",
     "exception": false,
     "start_time": "2023-05-31T08:29:22.415340",
     "status": "completed"
    },
    "tags": []
   },
   "outputs": [],
   "source": [
    "df_train = pd.read_csv(\"/kaggle/input/house-prices-advanced-regression-techniques/train.csv\")\n",
    "dataset_train = Dataset(df_train, is_train=True)\n",
    "X_train, X_test, y_train, y_test = dataset_train.get_train_test_data()\n",
    "\n",
    "print(\"Dimensiones de X_train:\", X_train.shape)\n",
    "print(\"Dimensiones de X_test:\", X_test.shape)\n",
    "print(\"Dimensiones de y_train:\", y_train.shape)\n",
    "print(\"Dimensiones de y_test:\", y_test.shape)\n"
   ]
  },
  {
   "cell_type": "markdown",
   "id": "66ce8b79",
   "metadata": {
    "papermill": {
     "duration": 0.055825,
     "end_time": "2023-05-31T08:29:22.731393",
     "exception": false,
     "start_time": "2023-05-31T08:29:22.675568",
     "status": "completed"
    },
    "tags": []
   },
   "source": [
    "# XGBoost Regressor"
   ]
  },
  {
   "cell_type": "code",
   "execution_count": null,
   "id": "1ca6d1cb",
   "metadata": {
    "execution": {
     "iopub.execute_input": "2023-05-31T08:29:22.845737Z",
     "iopub.status.busy": "2023-05-31T08:29:22.845251Z",
     "iopub.status.idle": "2023-05-31T08:29:23.012781Z",
     "shell.execute_reply": "2023-05-31T08:29:23.011869Z"
    },
    "papermill": {
     "duration": 0.228101,
     "end_time": "2023-05-31T08:29:23.015374",
     "exception": false,
     "start_time": "2023-05-31T08:29:22.787273",
     "status": "completed"
    },
    "tags": []
   },
   "outputs": [],
   "source": [
    "from xgboost import XGBRegressor\n",
    "from sklearn.metrics import mean_squared_error"
   ]
  },
  {
   "cell_type": "code",
   "execution_count": null,
   "id": "5e7b91d8",
   "metadata": {
    "execution": {
     "iopub.execute_input": "2023-05-31T08:29:23.129043Z",
     "iopub.status.busy": "2023-05-31T08:29:23.128607Z",
     "iopub.status.idle": "2023-05-31T08:29:24.160726Z",
     "shell.execute_reply": "2023-05-31T08:29:24.159606Z"
    },
    "papermill": {
     "duration": 1.091636,
     "end_time": "2023-05-31T08:29:24.162980",
     "exception": false,
     "start_time": "2023-05-31T08:29:23.071344",
     "status": "completed"
    },
    "tags": []
   },
   "outputs": [],
   "source": [
    "# Train the XGB model\n",
    "\n",
    "def xgb_train(X_train,X_test):\n",
    "    model_params = {\n",
    "    'objective': 'reg:squarederror',\n",
    "    'boosting_type': 'gbtree',\n",
    "    'learning_rate': 0.1,\n",
    "    'n_estimators': 500,\n",
    "    'max_depth': 3,\n",
    "#     'min_child_weight': 1,\n",
    "#     'subsample': 0.8,\n",
    "#     'colsample_bytree': 0.8,\n",
    "    'verbosity': 0,\n",
    "    'early_stopping_rounds':100\n",
    "    }\n",
    "    xgb_model = XGBRegressor(**model_params)\n",
    "    xgb_model.fit(X_train, y_train, eval_set=[(X_test, y_test)],verbose=0)\n",
    "\n",
    "    # Predict on the validation set\n",
    "    y_pred = xgb_model.predict(X_test)\n",
    "\n",
    "    # Evaluate the model using mean squared error\n",
    "    mse = mean_squared_error(y_test, y_pred)\n",
    "    rmse = np.sqrt(mse)\n",
    "    print(\"Root Mean Squared Error: \", rmse)\n",
    "    return xgb_model\n",
    "\n",
    "xgb_model = xgb_train(X_train,X_test)\n",
    "    "
   ]
  },
  {
   "cell_type": "code",
   "execution_count": null,
   "id": "2f7ff6da",
   "metadata": {
    "execution": {
     "iopub.execute_input": "2023-05-31T08:29:24.275997Z",
     "iopub.status.busy": "2023-05-31T08:29:24.275563Z",
     "iopub.status.idle": "2023-05-31T08:29:24.309743Z",
     "shell.execute_reply": "2023-05-31T08:29:24.308604Z"
    },
    "papermill": {
     "duration": 0.093029,
     "end_time": "2023-05-31T08:29:24.312291",
     "exception": false,
     "start_time": "2023-05-31T08:29:24.219262",
     "status": "completed"
    },
    "tags": []
   },
   "outputs": [],
   "source": [
    "df_test = pd.read_csv(\"/kaggle/input/house-prices-advanced-regression-techniques/test.csv\")\n",
    "submission = pd.read_csv(\"/kaggle/input/house-prices-advanced-regression-techniques/sample_submission.csv\")"
   ]
  },
  {
   "cell_type": "code",
   "execution_count": null,
   "id": "88c6a864",
   "metadata": {
    "execution": {
     "iopub.execute_input": "2023-05-31T08:29:24.423613Z",
     "iopub.status.busy": "2023-05-31T08:29:24.422875Z",
     "iopub.status.idle": "2023-05-31T08:29:24.524771Z",
     "shell.execute_reply": "2023-05-31T08:29:24.523483Z"
    },
    "papermill": {
     "duration": 0.160842,
     "end_time": "2023-05-31T08:29:24.527047",
     "exception": false,
     "start_time": "2023-05-31T08:29:24.366205",
     "status": "completed"
    },
    "tags": []
   },
   "outputs": [],
   "source": [
    "dataset_test = Dataset(df_test, is_train=False)\n",
    "X_test = dataset_test.get_train_test_data()\n",
    "\n",
    "print(\"Dimensiones de X_test:\", X_test.shape)\n"
   ]
  },
  {
   "cell_type": "code",
   "execution_count": null,
   "id": "9d199b54",
   "metadata": {
    "execution": {
     "iopub.execute_input": "2023-05-31T08:29:24.643142Z",
     "iopub.status.busy": "2023-05-31T08:29:24.642535Z",
     "iopub.status.idle": "2023-05-31T08:29:24.651477Z",
     "shell.execute_reply": "2023-05-31T08:29:24.650701Z"
    },
    "papermill": {
     "duration": 0.068943,
     "end_time": "2023-05-31T08:29:24.653906",
     "exception": false,
     "start_time": "2023-05-31T08:29:24.584963",
     "status": "completed"
    },
    "tags": []
   },
   "outputs": [],
   "source": [
    "baseline_test_pred = xgb_model.predict(X_test)"
   ]
  }
 ],
 "metadata": {
  "kernelspec": {
   "display_name": "Python 3 (ipykernel)",
   "language": "python",
   "name": "python3"
  },
  "language_info": {
   "codemirror_mode": {
    "name": "ipython",
    "version": 3
   },
   "file_extension": ".py",
   "mimetype": "text/x-python",
   "name": "python",
   "nbconvert_exporter": "python",
   "pygments_lexer": "ipython3",
   "version": "3.9.13"
  },
  "papermill": {
   "default_parameters": {},
   "duration": 40.909899,
   "end_time": "2023-05-31T08:29:26.194014",
   "environment_variables": {},
   "exception": null,
   "input_path": "__notebook__.ipynb",
   "output_path": "__notebook__.ipynb",
   "parameters": {},
   "start_time": "2023-05-31T08:28:45.284115",
   "version": "2.4.0"
  }
 },
 "nbformat": 4,
 "nbformat_minor": 5
}
